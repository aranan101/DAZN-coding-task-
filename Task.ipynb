{
 "cells": [
  {
   "cell_type": "code",
   "execution_count": 1,
   "id": "09cee951",
   "metadata": {},
   "outputs": [],
   "source": [
    "import pandas as pd \n",
    "import numpy as np\n",
    "import matplotlib.pyplot as plt"
   ]
  },
  {
   "cell_type": "markdown",
   "id": "2008eac4",
   "metadata": {},
   "source": [
    "## Data cleaning \n",
    "1. Save as csv and load into Pandas\n",
    "2. Clean up stream times and dates \n",
    "3. Remove irrelevant columns \n",
    "4. Change stream time in minutes to an int value "
   ]
  },
  {
   "cell_type": "code",
   "execution_count": 3,
   "id": "a22a2e6e",
   "metadata": {},
   "outputs": [],
   "source": [
    "raw_data_0 = pd.read_csv(\"dazn_experimentation_grad_task.csv\")"
   ]
  },
  {
   "cell_type": "code",
   "execution_count": 4,
   "id": "bff352f7",
   "metadata": {
    "scrolled": true
   },
   "outputs": [
    {
     "data": {
      "text/plain": [
       "str_viewer_id                            0\n",
       "str_playing_time                         0\n",
       "str_country                              0\n",
       "str_start_time                           0\n",
       "str_end_time                             0\n",
       "str_month                                0\n",
       "str_total_streaming_time_ms              0\n",
       "str_engaged_play                         0\n",
       "str_live_or_on_demand                    0\n",
       "str_sport_name                         262\n",
       "str_device_category                    510\n",
       "str_hd_flag                              0\n",
       "cust_subscription_term_start_date    14836\n",
       "cust_test_customer_flag                961\n",
       "dtype: int64"
      ]
     },
     "execution_count": 4,
     "metadata": {},
     "output_type": "execute_result"
    }
   ],
   "source": [
    "np.sum(raw_data_0.isna())\n",
    "# No missing data in time variables, therefore easy to parse "
   ]
  },
  {
   "cell_type": "code",
   "execution_count": 5,
   "id": "03eeb750",
   "metadata": {},
   "outputs": [],
   "source": [
    "def parse_datetime(series): \n",
    "    date_series = []\n",
    "    datetime_series = []\n",
    "    for str_1 in series:\n",
    "        date, time = str_1.split(\"T\")\n",
    "        ## Didn't parse miliseconds because I didn't think it was important \n",
    "        time = time[:8]\n",
    "        datetime = date + \"-\" + time \n",
    "        date_series.append(date)\n",
    "        datetime_series.append(datetime)\n",
    "    return pd.Series(datetime_series), pd.Series(date_series)\n",
    "\n",
    "str_datetime_start, str_date_start = parse_datetime(raw_data_0.str_start_time)\n",
    "# Added a date variable for streaming end, just incase the stream ended the next day\n",
    "str_datetime_end, str_date_end = parse_datetime(raw_data_0.str_end_time)\n",
    "        \n",
    "raw_data = raw_data_0.drop([\"str_start_time\", \"str_end_time\", \"str_month\"], axis = 1)\n",
    "raw_data[\"str_date_start\"] = pd.to_datetime(str_date_start, format = \"%Y-%m-%d\")\n",
    "raw_data[\"str_datetime_start\"] = pd.to_datetime(str_datetime_start, format = \"%Y-%m-%d-%H:%M:%S\")\n",
    "raw_data[\"str_date_end\"] = pd.to_datetime(str_date_end, format = \"%Y-%m-%d\")\n",
    "raw_data[\"str_datetime_end\"] = pd.to_datetime(str_datetime_end, format = \"%Y-%m-%d-%H:%M:%S\")\n",
    "raw_data[\"str_total_streaming_time_ms\"] = raw_data[\"str_total_streaming_time_ms\"].astype(int)\n",
    "\n"
   ]
  },
  {
   "cell_type": "markdown",
   "id": "55e799e5",
   "metadata": {},
   "source": [
    "## Which device category has the highest median playing time?\n",
    "Unknown "
   ]
  },
  {
   "cell_type": "code",
   "execution_count": 6,
   "id": "2ae78681",
   "metadata": {},
   "outputs": [
    {
     "data": {
      "text/plain": [
       "str_device_category\n",
       "Unknown    125051.0\n",
       "Name: str_playing_time, dtype: float64"
      ]
     },
     "execution_count": 6,
     "metadata": {},
     "output_type": "execute_result"
    }
   ],
   "source": [
    "raw_data[\"str_playing_time\"].groupby(raw_data[\"str_device_category\"]).median().sort_values(ascending = False).head(1)"
   ]
  },
  {
   "cell_type": "code",
   "execution_count": 7,
   "id": "77854ff1",
   "metadata": {},
   "outputs": [
    {
     "data": {
      "text/plain": [
       "str_device_category\n",
       "Living Room    56928\n",
       "Mobile         41342\n",
       "Web            10718\n",
       "Unknown           87\n",
       "Name: str_playing_time, dtype: int64"
      ]
     },
     "execution_count": 7,
     "metadata": {},
     "output_type": "execute_result"
    }
   ],
   "source": [
    "# Weird considering Unknown makes the lowest amount of observations \n",
    "raw_data[\"str_playing_time\"].groupby(raw_data[\"str_device_category\"]).count().sort_values(ascending = False)"
   ]
  },
  {
   "cell_type": "markdown",
   "id": "9dbc1667",
   "metadata": {},
   "source": [
    "## Which hour of the day has the highest absolute minutes streamed ?\n",
    "20:00"
   ]
  },
  {
   "cell_type": "code",
   "execution_count": 9,
   "id": "0e8d2036",
   "metadata": {},
   "outputs": [
    {
     "data": {
      "text/plain": [
       "<BarContainer object of 24 artists>"
      ]
     },
     "execution_count": 9,
     "metadata": {},
     "output_type": "execute_result"
    },
    {
     "data": {
      "image/png": "[encoded data removed]",
      "text/plain": [
       "<Figure size 720x720 with 1 Axes>"
      ]
     },
     "metadata": {},
     "output_type": "display_data"
    }
   ],
   "source": [
    "# Initialise dictionary of hour data \n",
    "hour_data = {str(i):0 for i in range(24)}\n",
    "# Get a dataset of just stream hours and minutes \n",
    "stream_start = raw_data[\"str_datetime_start\"]\n",
    "stream_data = pd.DataFrame()\n",
    "stream_data[\"hour\"] = stream_start.dt.hour\n",
    "stream_data[\"min\"] = stream_start.dt.minute\n",
    "stream_data[\"stream_time\"] = raw_data[\"str_total_streaming_time_ms\"] / 60000\n",
    "\n",
    "# Split problem by if the current stream spills over to the next hours\n",
    "over = stream_data.query(\"min + stream_time > 60\").copy()\n",
    "for i in range(over.shape[0]): \n",
    "    current_hour = over[\"hour\"].iloc[i]\n",
    "    current_minute = over[\"min\"].iloc[i]\n",
    "    stream_time = over[\"stream_time\"].iloc[i]\n",
    "    mins_to_add = stream_time - (60 - current_minute)\n",
    "    hour_data[str(int(current_hour))] += (60 - current_minute)\n",
    "    n_hours = mins_to_add // 60\n",
    "    for j in range(int(n_hours)): \n",
    "        hour_data[str(int((current_hour+1+i)%24))] += 60\n",
    "    hour_data[str(int((current_hour+1+n_hours)%24))] += mins_to_add % 60\n",
    "    # Probably overcomplicated it: the code adds spilled minutes from the current hour onto the following hours robustly \n",
    "under = stream_data.query(\"min + stream_time < 60\").copy()\n",
    "dummy = under[\"stream_time\"].groupby(under[\"hour\"]).sum()\n",
    "for i,j in enumerate(dummy): \n",
    "    hour_data[str(i)] += j\n",
    "    # Minutes of current stream hour are appropriately added \n",
    "\n",
    "keys = hour_data.keys()\n",
    "values = hour_data.values()\n",
    "plt.style.use('seaborn')\n",
    "plt.figure(figsize = (10,10))\n",
    "plt.xlabel(\"Hour of the day (24 hour format)\")\n",
    "plt.ylabel(\"minutes streamed\")\n",
    "plt.title(\"Which hour of the day has the highest absolute minutes streamed?\")\n",
    "plt.bar(keys, values)"
   ]
  }
 ],
 "metadata": {
  "kernelspec": {
   "display_name": "Python [conda env:py3-TF2.0] *",
   "language": "python",
   "name": "conda-env-py3-TF2.0-py"
  },
  "language_info": {
   "codemirror_mode": {
    "name": "ipython",
    "version": 3
   },
   "file_extension": ".py",
   "mimetype": "text/x-python",
   "name": "python",
   "nbconvert_exporter": "python",
   "pygments_lexer": "ipython3",
   "version": "3.7.10"
  }
 },
 "nbformat": 4,
 "nbformat_minor": 5
}
